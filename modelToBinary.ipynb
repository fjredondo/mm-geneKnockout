{
 "cells": [
  {
   "cell_type": "code",
   "execution_count": 1,
   "metadata": {},
   "outputs": [],
   "source": [
    "import cplex\n",
    "import cobra\n",
    "import time\n",
    "import pickle\n",
    "import sys\n",
    "cobra.Configuration().solver='cplex'"
   ]
  },
  {
   "cell_type": "code",
   "execution_count": 2,
   "metadata": {},
   "outputs": [],
   "source": [
    "start=time.time()\n",
    "\n",
    "nombreEntrada=sys.argv[1]\n",
    "nombreSalida=sys.argv[2]\n",
    "\n",
    "ext=nombreEntrada[len(nombreEntrada)-3:]\n",
    "if ext==\"xml\":\n",
    "    modelo=cobra.io.read_sbml_model(nombreEntrada)\n",
    "if ext==\"mat\":\n",
    "    modelo=cobra.io.load_matlab_model(nombreEntrada)\n",
    "    \n",
    "with open(nombreSalida,\"wb\") as f:\n",
    "    pickle.dump(modelo,f)\n",
    "\n",
    "print(f'{\"nombreSalida: \"}{nombreSalida}{\"; time: \"}{(time.time()-start)}')"
   ]
  }
 ],
 "metadata": {
  "kernelspec": {
   "display_name": "Python3.6",
   "language": "python",
   "name": "python3.6"
  },
  "language_info": {
   "codemirror_mode": {
    "name": "ipython",
    "version": 3
   },
   "file_extension": ".py",
   "mimetype": "text/x-python",
   "name": "python",
   "nbconvert_exporter": "python",
   "pygments_lexer": "ipython3",
   "version": "3.6.8"
  }
 },
 "nbformat": 4,
 "nbformat_minor": 4
}
