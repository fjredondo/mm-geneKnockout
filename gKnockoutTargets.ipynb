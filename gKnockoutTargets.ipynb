{
 "cells": [
  {
   "cell_type": "code",
   "execution_count": 4,
   "metadata": {},
   "outputs": [],
   "source": [
    "import cplex\n",
    "import cobra\n",
    "import time\n",
    "import pickle\n",
    "cobra.Configuration().solver='cplex'"
   ]
  },
  {
   "cell_type": "code",
   "execution_count": 82,
   "metadata": {},
   "outputs": [],
   "source": [
    "## ---------------------------------------------------\n",
    "## load_pickle: loads data stored by pickle into files into memory.\n",
    "## Params: Receive a path\n",
    "## Return: An object of type \"set\" or type \"cobra.core.model.Model\", depending the file content.\n",
    "## ---------------------------------------------------\n",
    "def load_pickle(ruta):\n",
    "    with open(ruta,\"rb\") as f:\n",
    "        cs=pickle.load(f)\n",
    "        if isinstance(cs, set):\n",
    "            print(f'{\"len(\"}{ruta}{\"): \"}{len(cs)}')\n",
    "        if isinstance(cs, cobra.core.model.Model):\n",
    "            print(f'{\"Loaded model: \"}{ruta}')            \n",
    "    return cs\n",
    "\n",
    "from pathlib import Path\n",
    "\n",
    "## ---------------------------------------------------\n",
    "## load_files: invoke load_file for each file matching \n",
    "## the extension and path indicated in the parameters\n",
    "## Params: Receive a file extension and path\n",
    "## Return: A dictionary.\n",
    "## ---------------------------------------------------\n",
    "def load_files(ext,path):\n",
    "    d=dict()\n",
    "    for r in [ archivo.with_suffix(\".\" + ext).as_posix() \\\n",
    "                 for archivo in Path(path).glob(\"*\")]: \n",
    "        d[Path(r).stem] = load_pickle(r)\n",
    "    return d\n",
    "\n",
    "## ---------------------------------------------------\n",
    "## recursive_operation_over_sets: Recursively applies the indicated operation\n",
    "## on the set of elements passed in the dictionary\n",
    "## Params: Receive a dictionary and the operation\n",
    "## Return: A dictionary.\n",
    "## ---------------------------------------------------\n",
    "def recursive_operation_over_sets(d,o):\n",
    "    k=list(d)\n",
    "    s=list(d.values())\n",
    "    newDict = dict()\n",
    "    if len(s) > 1:\n",
    "        # print(f'{[{i[0]:len(i[1])} for i in d.items()]}')\n",
    "        t=eval(\"s[0].\"+ o +\"(s[1])\")\n",
    "        print(f'{\"Operation: \"}{[k[0],len(s[0])]}{\" \"}{o}{\" \"}{[k[1],len(s[1])]}{\". Result: \"}{len(t)}')\n",
    "        s.pop(0)\n",
    "        s.pop(0)\n",
    "        s.insert(0,t)\n",
    "        \n",
    "        k.pop(0)\n",
    "        k.pop(0)\n",
    "        k.insert(0,o+'Target')        \n",
    "        \n",
    "        newDict = {k[i]: s[i] for i in range(len(k))}\n",
    "        d=recursive_operation_over_sets(newDict,o)\n",
    "    return d\n",
    "\n",
    "## ---------------------------------------------------\n",
    "## cal_knockout: Knockout a gene and calculate the biomass after optimizing the model\n",
    "## Params: Receive a gene and model\n",
    "## Return: A biomass calculation\n",
    "## ---------------------------------------------------\n",
    "def cal_knockout(g,model):\n",
    "    with model:\n",
    "        sol=-1\n",
    "        if model.genes.has_id(g):\n",
    "            model.genes.get_by_id(g).knock_out()\n",
    "            sol= model.slim_optimize()\n",
    "    return round(sol,4)"
   ]
  },
  {
   "cell_type": "code",
   "execution_count": 8,
   "metadata": {},
   "outputs": [
    {
     "name": "stdout",
     "output_type": "stream",
     "text": [
      "len(models/generic/gcs/Human_1_17.gcs): 92\n",
      "len(models/mm/gcs/SKMM2.gcs): 148\n",
      "len(models/mm/gcs/MMIS.gcs): 127\n",
      "len(models/mm/gcs/KMM1.gcs): 124\n",
      "len(models/tissue/gcs/pancreas.gcs): 129\n",
      "len(models/tissue/gcs/liver.gcs): 131\n",
      "len(models/tissue/gcs/kidney.gcs): 129\n"
     ]
    }
   ],
   "source": [
    "generic_gcs_dict=load_files(\"gcs\",\"./models/generic/gcs\")\n",
    "mm_gcs_dict=load_files(\"gcs\",\"./models/mm/gcs\")\n",
    "tissue_gcs_dict=load_files(\"gcs\",\"./models/tissue/gcs\")"
   ]
  },
  {
   "cell_type": "code",
   "execution_count": 54,
   "metadata": {},
   "outputs": [
    {
     "name": "stdout",
     "output_type": "stream",
     "text": [
      "Operation: ['SKMM2', 148] intersection ['MMIS', 127]. Result: 122\n",
      "Operation: ['intersectionTarget', 122] intersection ['KMM1', 124]. Result: 120\n"
     ]
    }
   ],
   "source": [
    "mm_gcs = recursive_operation_over_sets(mm_gcs_dict.copy(), 'intersection')"
   ]
  },
  {
   "cell_type": "code",
   "execution_count": 58,
   "metadata": {},
   "outputs": [
    {
     "name": "stdout",
     "output_type": "stream",
     "text": [
      "Operation: ['intersectionTarget', 120] difference ['Human_1_17', 92]. Result: 29\n"
     ]
    }
   ],
   "source": [
    "mm_gcs_without_generics = {**mm_gcs,**generic_gcs_dict}\n",
    "mm_gcs_without_generics = recursive_operation_over_sets(mm_gcs_without_generics,'difference')"
   ]
  },
  {
   "cell_type": "code",
   "execution_count": 59,
   "metadata": {},
   "outputs": [
    {
     "name": "stdout",
     "output_type": "stream",
     "text": [
      "Operation: ['differenceTarget', 29] difference ['pancreas', 129]. Result: 3\n",
      "Operation: ['differenceTarget', 3] difference ['liver', 131]. Result: 3\n",
      "Operation: ['differenceTarget', 3] difference ['kidney', 129]. Result: 3\n"
     ]
    }
   ],
   "source": [
    "mm_gcs_without_gTissue = {**mm_gcs_without_generics,**tissue_gcs_dict}\n",
    "mm_gcs_without_gTissue = recursive_operation_over_sets(mm_gcs_without_gTissue,'difference')"
   ]
  },
  {
   "cell_type": "code",
   "execution_count": 60,
   "metadata": {},
   "outputs": [
    {
     "data": {
      "text/plain": [
       "{'differenceTarget': {'ENSG00000135437', 'ENSG00000137700', 'ENSG00000173614'}}"
      ]
     },
     "execution_count": 60,
     "metadata": {},
     "output_type": "execute_result"
    }
   ],
   "source": [
    "mm_gcs_without_gTissue"
   ]
  },
  {
   "cell_type": "code",
   "execution_count": null,
   "metadata": {},
   "outputs": [],
   "source": [
    "generic_data_dict=load_files(\"dat\",\"./models/generic/data\")\n",
    "mm_data_dict=load_files(\"dat\",\"./models/mm/data\")\n",
    "tissue_data_dict=load_files(\"dat\",\"./models/tissue/data\")"
   ]
  },
  {
   "cell_type": "code",
   "execution_count": 109,
   "metadata": {},
   "outputs": [
    {
     "name": "stdout",
     "output_type": "stream",
     "text": [
      "[['Gene', 'SKMM2', 'MMIS', 'KMM1', 'Human_1_17', 'pancreas', 'liver', 'kidney'], ['ENSG00000137700', 0.0, 0.0, 0.0, -1, -1, -1, -1], ['ENSG00000173614', 0.0, 0.0, 0.0, 124.7608, 81.0611, 78.603, 76.7256], ['ENSG00000135437', 0.0, 0.0, 0.0, 124.7608, 81.0611, 78.603, 76.7256]]\n"
     ]
    }
   ],
   "source": [
    "biomassAfterGeneKnockout=[['Gene']+list(mm_data_dict)+list(generic_data_dict)+list(tissue_data_dict)]\n",
    "for g in list(mm_gcs_without_gTissue.values())[0]:\n",
    "    sol=[g]\n",
    "    for m in list(mm_data_dict.values()):\n",
    "        sol.append(cal_knockout(g, m))    \n",
    "    for m in list(generic_data_dict.values()):\n",
    "        sol.append(cal_knockout(g, m))         \n",
    "    for m in list(tissue_data_dict.values()):\n",
    "        sol.append(cal_knockout(g, m))\n",
    "    biomassAfterGeneKnockout.append(sol)\n",
    "print(biomassAfterGeneKnockout)   "
   ]
  },
  {
   "cell_type": "code",
   "execution_count": 110,
   "metadata": {},
   "outputs": [],
   "source": [
    "import numpy as np\n",
    "\n",
    "np.savetxt(\"biomassAfterGeneKnockout.csv\", biomassAfterGeneKnockout, delimiter=\",\", fmt=\"% s\")\n"
   ]
  }
 ],
 "metadata": {
  "kernelspec": {
   "display_name": "Python3.6",
   "language": "python",
   "name": "python3.6"
  },
  "language_info": {
   "codemirror_mode": {
    "name": "ipython",
    "version": 3
   },
   "file_extension": ".py",
   "mimetype": "text/x-python",
   "name": "python",
   "nbconvert_exporter": "python",
   "pygments_lexer": "ipython3",
   "version": "3.6.8"
  }
 },
 "nbformat": 4,
 "nbformat_minor": 4
}
