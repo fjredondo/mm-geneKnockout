{
 "cells": [
  {
   "cell_type": "code",
   "execution_count": 1,
   "metadata": {},
   "outputs": [],
   "source": [
    "import cplex\n",
    "import cobra\n",
    "import time\n",
    "import pickle\n",
    "import sys\n",
    "cobra.Configuration().solver='cplex'"
   ]
  },
  {
   "cell_type": "code",
   "execution_count": 2,
   "metadata": {},
   "outputs": [],
   "source": [
    "start=time.time()\n",
    "nombreEntrada=sys.argv[1]\n",
    "nombreSalida=sys.argv[2]\n",
    "with open(nombreEntrada,\"rb\") as f:\n",
    "    modelo=pickle.load(f)"
   ]
  },
  {
   "cell_type": "code",
   "execution_count": 29,
   "metadata": {},
   "outputs": [
    {
     "name": "stdout",
     "output_type": "stream",
     "text": [
      "filename: ./Modelos/MM/KMM1.dat\n"
     ]
    }
   ],
   "source": [
    "print(f'{\"filename: \"}{f.name}')"
   ]
  },
  {
   "cell_type": "code",
   "execution_count": 3,
   "metadata": {},
   "outputs": [],
   "source": [
    "susGenes=dict()\n",
    "for r in modelo.reactions:\n",
    "    grr=r.gene_reaction_rule\n",
    "    if len(r.genes)==0:\n",
    "        susGenes[r.id]=set()\n",
    "    if len(r.genes)==1:\n",
    "        susGenes[r.id]=set([g.id for g in r.genes])\n",
    "    if \"or\" in grr and not \"and\" in grr:\n",
    "        susGenes[r.id]=set()\n",
    "    if \"and\" in grr and not \"or\" in grr:\n",
    "        susGenes[r.id]= set(grr.split(\" and \"))\n",
    "    if \"and\" in grr and \"or\" in grr:\n",
    "        susGenes[r.id]=set([g.id for g in r.genes])"
   ]
  },
  {
   "cell_type": "code",
   "execution_count": 5,
   "metadata": {},
   "outputs": [],
   "source": [
    "biomasa=modelo.reactions.MAR13082\n",
    "error=10**-12\n",
    "with modelo:\n",
    "    modelo.objective=biomasa\n",
    "    modelo.objective_direction=\"max\"\n",
    "    sol=modelo.optimize()\n",
    "    sop=[r.id for i,r in enumerate(modelo.reactions) if abs(sol.fluxes[i])>error]"
   ]
  },
  {
   "cell_type": "code",
   "execution_count": 30,
   "metadata": {},
   "outputs": [
    {
     "name": "stdout",
     "output_type": "stream",
     "text": [
      "biomasa.id: MAR13082\n"
     ]
    }
   ],
   "source": [
    "print(f'{\"biomasa.id: \"}{biomasa.id}')"
   ]
  },
  {
   "cell_type": "code",
   "execution_count": 32,
   "metadata": {},
   "outputs": [
    {
     "name": "stdout",
     "output_type": "stream",
     "text": [
      "len(sop): 1167\n"
     ]
    }
   ],
   "source": [
    "print(f'{\"len(sop): \"}{len(sop)}')"
   ]
  },
  {
   "cell_type": "code",
   "execution_count": 34,
   "metadata": {},
   "outputs": [],
   "source": [
    "candidatos=set()\n",
    "for r in sop:\n",
    "    candidatos.update(susGenes[r])"
   ]
  },
  {
   "cell_type": "code",
   "execution_count": 36,
   "metadata": {},
   "outputs": [
    {
     "name": "stdout",
     "output_type": "stream",
     "text": [
      "len(candidatos): 381; len(modelo.genes): 2434\n"
     ]
    }
   ],
   "source": [
    "print(f'{\"len(candidatos): \"}{len(candidatos)}{\"; len(modelo.genes): \"}{len(modelo.genes)}')"
   ]
  },
  {
   "cell_type": "code",
   "execution_count": null,
   "metadata": {},
   "outputs": [
    {
     "name": "stdout",
     "output_type": "stream",
     "text": [
      "\n",
      "KeyboardInterrupt\n",
      "\n",
      "KeyboardInterrupt\n"
     ]
    }
   ],
   "source": [
    "gCS=set()\n",
    "for g in candidatos:\n",
    "    with modelo:\n",
    "        modelo.genes.get_by_id(g).knock_out()\n",
    "        biomasa.bounds=[error,1000]\n",
    "        modelo.objective=biomasa\n",
    "        modelo.objective_direction=\"max\"\n",
    "        sol=modelo.slim_optimize()\n",
    "        if sol<error:\n",
    "            gCS.add(g)"
   ]
  },
  {
   "cell_type": "code",
   "execution_count": null,
   "metadata": {},
   "outputs": [],
   "source": [
    "print(f'{\"len(gCS): \"}{len(gCS)}')"
   ]
  },
  {
   "cell_type": "code",
   "execution_count": 21,
   "metadata": {},
   "outputs": [],
   "source": [
    "with open(nombreSalida,\"wb\") as f:\n",
    "    pickle.dump(gCS,f)"
   ]
  },
  {
   "cell_type": "code",
   "execution_count": 38,
   "metadata": {},
   "outputs": [
    {
     "name": "stdout",
     "output_type": "stream",
     "text": [
      "filename: ./Modelos/MM/KMM1.dat; time: 1200.0433254241943\n"
     ]
    }
   ],
   "source": [
    "print(f'{\"nombreSalida: \"}{nombreSalida}{\"; time: \"}{(time.time()-start)}')"
   ]
  }
 ],
 "metadata": {
  "kernelspec": {
   "display_name": "Python3.6",
   "language": "python",
   "name": "python3.6"
  },
  "language_info": {
   "codemirror_mode": {
    "name": "ipython",
    "version": 3
   },
   "file_extension": ".py",
   "mimetype": "text/x-python",
   "name": "python",
   "nbconvert_exporter": "python",
   "pygments_lexer": "ipython3",
   "version": "3.6.8"
  }
 },
 "nbformat": 4,
 "nbformat_minor": 4
}
